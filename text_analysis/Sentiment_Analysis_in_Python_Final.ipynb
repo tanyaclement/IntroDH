{
  "nbformat": 4,
  "nbformat_minor": 0,
  "metadata": {
    "colab": {
      "provenance": [],
      "include_colab_link": true
    },
    "kernelspec": {
      "name": "python3",
      "display_name": "Python 3"
    },
    "language_info": {
      "name": "python"
    }
  },
  "cells": [
    {
      "cell_type": "markdown",
      "metadata": {
        "id": "view-in-github",
        "colab_type": "text"
      },
      "source": [
        "<a href=\"https://colab.research.google.com/github/tanyaclement/IntroDH/blob/master/text_analysis/Sentiment_Analysis_in_Python_Final.ipynb\" target=\"_parent\"><img src=\"https://colab.research.google.com/assets/colab-badge.svg\" alt=\"Open In Colab\"/></a>"
      ]
    },
    {
      "cell_type": "markdown",
      "source": [
        "# Sentiment Analysis in Python\n",
        "\n",
        "In this notebook we will be doing some sentiment analysis in python using VADER (Valence Aware Dictionary and sEntiment Reasoner)\n",
        "\n",
        "## Notebook Helpful Hints\n",
        "1. You can run a piece of code by hitting the 'play' button in the code block.\n",
        "2. Run all the pieces of code you come across. Later blocks of code often depend on previous ones.\n",
        "3. If you need help, ask! It's what we're here for."
      ],
      "metadata": {
        "id": "x7vXiZ6vz1U6"
      }
    },
    {
      "cell_type": "markdown",
      "source": [
        "# 1. Setup and Initialization"
      ],
      "metadata": {
        "id": "tR-JAHWpzqlW"
      }
    },
    {
      "cell_type": "code",
      "execution_count": null,
      "metadata": {
        "id": "FvK-hnGCvb2W"
      },
      "outputs": [],
      "source": [
        "!pip install vaderSentiment  # Install the VADER sentiment analysis library\n",
        "\n",
        "# Import SentimentIntensityAnalyzer class for sentiment analysis\n",
        "from vaderSentiment.vaderSentiment import SentimentIntensityAnalyzer\n",
        "\n",
        "# Libraries for data manipulation and analysis\n",
        "import pandas as pd\n",
        "import numpy as np\n",
        "\n",
        "# Libraries for plotting and visualization\n",
        "import matplotlib.pyplot as plt\n",
        "plt.style.use('ggplot')  # Set the plotting style to 'ggplot'\n",
        "\n",
        "# Natural Language Processing libraries from nltk\n",
        "import nltk\n",
        "from nltk.tokenize import word_tokenize  # Function for tokenizing text into words\n",
        "from nltk.corpus import stopwords  # Collection of common stop words in various languages\n",
        "\n",
        "# Download necessary nltk datasets for language processing tasks\n",
        "nltk.download('vader_lexicon')  # Lexicon for sentiment analysis\n",
        "nltk.download('punkt')  # Model for tokenizing sentences\n",
        "nltk.download('stopwords')  # Collection of stop words\n",
        "nltk.download('averaged_perceptron_tagger')  # Pre-trained tagger for part-of-speech tagging"
      ]
    },
    {
      "cell_type": "markdown",
      "source": [
        "# 2. Fun with NLTK and VADER!\n",
        "\n",
        "## NLTK - Natural Language Toolkit\n",
        "The NLTK packages can do all sorts of natural language processing, including splitting your text into 'tokens' and even determining parts of speech!"
      ],
      "metadata": {
        "id": "n-MBVAa4Skxa"
      }
    },
    {
      "cell_type": "markdown",
      "source": [
        "## Tokenization and POS Tagging\n",
        "\n",
        "First, let's create an array of sentences to work with. The following makes an array with lines from Anakin Skywalker/Darth Vader over the course of the *Star Wars* movies."
      ],
      "metadata": {
        "id": "sPng3-Ibd_rE"
      }
    },
    {
      "cell_type": "code",
      "source": [
        "# Initialize an array of quotations\n",
        "\n",
        "darthVaderArray = [\"I Have Brought Peace, Freedom, Justice, and Security to My New Empire.\",\n",
        "                   \"I Am Altering the Deal. Pray, I Don’t Alter It Any Further.\",\n",
        "                   \"From my point of view, the Jedi are evil!\",\n",
        "                   \"No, I am your father.\"]\n",
        "\n",
        "print(darthVaderArray)"
      ],
      "metadata": {
        "id": "RrBnO7sZhLPV"
      },
      "execution_count": null,
      "outputs": []
    },
    {
      "cell_type": "markdown",
      "source": [
        "Let's break those quotes down into tokens. Do you notice anything with the puncutation?"
      ],
      "metadata": {
        "id": "ue25aa9lO4tV"
      }
    },
    {
      "cell_type": "code",
      "source": [
        "# Tokenize and print each quotation\n",
        "\n",
        "for quote in darthVaderArray:\n",
        "  tokens = nltk.word_tokenize(quote)\n",
        "  print(tokens)"
      ],
      "metadata": {
        "id": "uTXlzyQKYoYA"
      },
      "execution_count": null,
      "outputs": []
    },
    {
      "cell_type": "markdown",
      "source": [
        "Let's focus on the first quotation:"
      ],
      "metadata": {
        "id": "tpKJ9nnBacb5"
      }
    },
    {
      "cell_type": "code",
      "source": [
        "# tokenize and print the quotation\n",
        "\n",
        "tokens = nltk.word_tokenize(darthVaderArray[0])\n",
        "print(tokens)"
      ],
      "metadata": {
        "id": "YjiCycTEZGL9"
      },
      "execution_count": null,
      "outputs": []
    },
    {
      "cell_type": "markdown",
      "source": [
        "Then, we'll have the NLTK tag each token with a part of speech. Interested in looking up the tags? Cool! Check [here](https://www.ibm.com/docs/en/wca/3.5.0?topic=analytics-part-speech-tag-sets) for tag descriptions."
      ],
      "metadata": {
        "id": "whK4zyZWPayk"
      }
    },
    {
      "cell_type": "code",
      "source": [
        "# Then, we'll have NLTK tag each part of speech (POS)\n",
        "\n",
        "tagged = nltk.pos_tag(tokens)\n",
        "\n",
        "for taggedData in tagged:\n",
        "  print (taggedData)"
      ],
      "metadata": {
        "id": "tmOHPcWIZdBc"
      },
      "execution_count": null,
      "outputs": []
    },
    {
      "cell_type": "markdown",
      "source": [
        "The NLTK can do a lot more, but these are some basics that our tool, VADER, is using in the background."
      ],
      "metadata": {
        "id": "B0mIufW7PuFh"
      }
    },
    {
      "cell_type": "markdown",
      "source": [
        "# VADER Sentiment\n",
        "## b. Generating Sentiment Scores\n",
        "\n",
        "Generating sentiment scores with VADER is pretty easy. Below, we'll learn how to get scores for our *Star Wars* quotes."
      ],
      "metadata": {
        "id": "0Z2_dOjIYzyH"
      }
    },
    {
      "cell_type": "code",
      "source": [
        "# Set up the sentiment intensity analyzer\n",
        "vader = SentimentIntensityAnalyzer()\n",
        "\n",
        "# Generate sentiment scores for the sample quotations\n",
        "for quote in darthVaderArray:\n",
        "  vs = vader.polarity_scores(quote) # this line generates the score\n",
        "  print(\"{:-<70} {}\".format(quote, str(vs)))"
      ],
      "metadata": {
        "id": "73uxprlIeiMM"
      },
      "execution_count": null,
      "outputs": []
    },
    {
      "cell_type": "markdown",
      "source": [
        "Notice the sets of three scores at the end. Do you see anything expected or unexpected?"
      ],
      "metadata": {
        "id": "eH7Ztl5UR3Gr"
      }
    },
    {
      "cell_type": "markdown",
      "source": [
        "## Try It Yourself!"
      ],
      "metadata": {
        "id": "xiNtd2voRDOe"
      }
    },
    {
      "cell_type": "markdown",
      "source": [
        "Find quotations from your own favorite books or movies! Try to think of a variety of samples with complexities like sarcasm or irony. Negation or quotations requiring extra context might be interesting as well!"
      ],
      "metadata": {
        "id": "0Nj5Jy2Kou6i"
      }
    },
    {
      "cell_type": "code",
      "source": [
        "# Initialize your own array of quotations. Feel free to use more than three.\n",
        "\n",
        "quotationsArray = [\"add\",\n",
        "                   \"quotes\",\n",
        "                   \"here\"]\n",
        "\n",
        "print (quotationsArray)"
      ],
      "metadata": {
        "id": "GI4ws0y3RMmk"
      },
      "execution_count": null,
      "outputs": []
    },
    {
      "cell_type": "code",
      "source": [
        "# Generate sentiment scores for the sample quotations\n",
        "\n",
        "for quote in quotationsArray:\n",
        "    vs = vader.polarity_scores(quote)\n",
        "    print(\"{:-<65} {}\".format(quote, str(vs)))"
      ],
      "metadata": {
        "id": "ct5HrVHlffzK"
      },
      "execution_count": null,
      "outputs": []
    },
    {
      "cell_type": "markdown",
      "source": [
        "What did you find? Was anything unexpected?"
      ],
      "metadata": {
        "id": "QfmBpqZvRdpP"
      }
    },
    {
      "cell_type": "markdown",
      "source": [
        "# 3. Analyzing Star Wars!"
      ],
      "metadata": {
        "id": "FZ6Izoqhedkq"
      }
    },
    {
      "cell_type": "markdown",
      "source": [
        "## Import and load the script data"
      ],
      "metadata": {
        "id": "3-NTRWIfrw3X"
      }
    },
    {
      "cell_type": "markdown",
      "source": [
        "This section loads the script data and takes a look at dialogue and character!"
      ],
      "metadata": {
        "id": "6GJb50WQ4-QW"
      }
    },
    {
      "cell_type": "code",
      "source": [
        "from urllib.request import urlretrieve\n",
        "\n",
        "# retrieve the files from GitHub\n",
        "urlIV = \"https://raw.githubusercontent.com/emily565/sentimentworkshop/main/SW_EpisodeIV.txt\"\n",
        "urlV = \"https://raw.githubusercontent.com/emily565/sentimentworkshop/main/SW_EpisodeV.txt\"\n",
        "urlVI = \"https://raw.githubusercontent.com/emily565/sentimentworkshop/main/SW_EpisodeVI.txt\"\n",
        "\n",
        "# load the scripts\n",
        "scriptIV = pd.read_csv(urlIV, sep=' ', on_bad_lines='skip')\n",
        "scriptV = pd.read_csv(urlV, sep=' ', on_bad_lines='skip')\n",
        "scriptVI = pd.read_csv(urlVI, sep=' ', on_bad_lines='skip')\n",
        "\n",
        "# Convert to CSV\n",
        "scriptIV.to_csv('episodeIV.csv', index=False)\n",
        "scriptV.to_csv('episodeV.csv', index=False)\n",
        "scriptVI.to_csv('episodeVI.csv', index=False)\n",
        "\n",
        "# Merge scripts into an Original Trilogy set\n",
        "frames = [scriptIV, scriptV, scriptVI]\n",
        "SW_Trilogy = pd.concat(frames)\n",
        "Trio = SW_Trilogy.reset_index(drop=True)\n",
        "\n",
        "\n",
        "# How many lines of dialogue were found?\n",
        "print('Lines of Dialogue in Star Wars Trilogy:', len(Trio), '\\n')\n"
      ],
      "metadata": {
        "id": "TJS3Aq3awud3"
      },
      "execution_count": null,
      "outputs": []
    },
    {
      "cell_type": "markdown",
      "source": [
        "Let's look at the data we imported:"
      ],
      "metadata": {
        "id": "bnOcqypS4S2S"
      }
    },
    {
      "cell_type": "code",
      "source": [
        "print(Trio.head(20))"
      ],
      "metadata": {
        "id": "DLxeOnfR4YPy"
      },
      "execution_count": null,
      "outputs": []
    },
    {
      "cell_type": "markdown",
      "source": [
        "Notice anything about the processing?"
      ],
      "metadata": {
        "id": "YhulmYBG4eLW"
      }
    },
    {
      "cell_type": "markdown",
      "source": [
        "Let's break the lines down by character:"
      ],
      "metadata": {
        "id": "yC1IgAhrTXNy"
      }
    },
    {
      "cell_type": "code",
      "source": [
        "# How many lines belonged to the top 20 characters?\n",
        "print('Total Lines of top 20 characters in Star Wars Trilogy:\\n')\n",
        "\n",
        "print(Trio.character.value_counts().head(20))"
      ],
      "metadata": {
        "id": "ppBeR-Z3Tg6a"
      },
      "execution_count": null,
      "outputs": []
    },
    {
      "cell_type": "markdown",
      "source": [
        "We can also break down dialogue by each script. Episode IV is aleady done, can you print out Episodes V and VI?"
      ],
      "metadata": {
        "id": "flVLzVsZrvDK"
      }
    },
    {
      "cell_type": "code",
      "source": [
        "Top20Chars_epiv = scriptIV.character.value_counts().head(20)\n",
        "Top20Chars_epv = scriptV.character.value_counts().head(20)\n",
        "Top20Chars_epvi = scriptVI.character.value_counts().head(20)\n",
        "\n",
        "# Here's Episode IV\n",
        "print(\"Top 20 characters in Episode IV\")\n",
        "print(Top20Chars_epiv)\n",
        "\n",
        "# What about Episodes V and VI?"
      ],
      "metadata": {
        "id": "wvPnKs5tqnrT"
      },
      "execution_count": null,
      "outputs": []
    },
    {
      "cell_type": "markdown",
      "source": [
        "## Analysis by Character\n",
        "Now that we can break down the scripts by character, we can do an analysis of an individual character. Let's start with Luke Skywalker."
      ],
      "metadata": {
        "id": "Y9MQ3b9WuHWi"
      }
    },
    {
      "cell_type": "code",
      "source": [
        "# pick out all of Luke's lines from our set of all three scripts\n",
        "lukeRows = Trio[Trio['character'] == 'LUKE'].copy()\n",
        "\n",
        "# Initialize an empty list to store sentiment scores\n",
        "sentiment_scores = []\n",
        "\n",
        "# Initialize the analysizer\n",
        "vader = SentimentIntensityAnalyzer()\n",
        "\n",
        "# Iterate over each line of dialogue to collect the compound score\n",
        "for text in lukeRows['dialogue']:\n",
        "    score = vader.polarity_scores(text)['compound']  # Get compound score for each text\n",
        "    sentiment_scores.append(score)\n",
        "\n",
        "# Add sentiment scores to the lines as a new column\n",
        "lukeRows.loc[:, 'sentiment_score'] = sentiment_scores\n",
        "\n",
        "# print out twenty of Luke's lines\n",
        "print(lukeRows.head(20))\n"
      ],
      "metadata": {
        "id": "eI7cXXJArpe5"
      },
      "execution_count": null,
      "outputs": []
    },
    {
      "cell_type": "markdown",
      "source": [
        "These are Luke's first 20 lines in the Star Wars franchise. Did you expect positivity? Negativity? Neutrality? Why?"
      ],
      "metadata": {
        "id": "qimslTFpvR-2"
      }
    },
    {
      "cell_type": "markdown",
      "source": [
        "## Plotting Luke"
      ],
      "metadata": {
        "id": "ZuWJ3OJ_v3he"
      }
    },
    {
      "cell_type": "markdown",
      "source": [
        "We can also plot Luke's sentiment over the course of all three films using his lines."
      ],
      "metadata": {
        "id": "6WCYCrYMUVdh"
      }
    },
    {
      "cell_type": "code",
      "source": [
        "# Draw a plot for Luke's sentiment score over time\n",
        "\n",
        "plt.figure(figsize=(15,6))\n",
        "plt.plot(lukeRows.index, lukeRows['sentiment_score'], marker='o', linestyle='-', color=\"green\")\n",
        "plt.title('Sentiment Score for LUKE Over Time')\n",
        "plt.xlabel('Line Number')\n",
        "plt.ylabel('Sentiment Score')\n",
        "plt.grid(True)\n",
        "plt.show()"
      ],
      "metadata": {
        "id": "G55406oB2PtA"
      },
      "execution_count": null,
      "outputs": []
    },
    {
      "cell_type": "markdown",
      "source": [
        "What do you see here? Can you tell where one film ends and another begins? What happens to Luke's sentiment over time? What happens to Luke's number of lines over time?"
      ],
      "metadata": {
        "id": "tEhPcu0gUoDs"
      }
    },
    {
      "cell_type": "markdown",
      "source": [
        "## Try it yourself!\n",
        "Use the 'Top 20' characters chart to select your own characters to analyze! Using Luke as an example, analyze and plot your character's sentiment over the course of all three films."
      ],
      "metadata": {
        "id": "vUrN7gz7v86g"
      }
    },
    {
      "cell_type": "code",
      "source": [
        "# pick out all of your character's lines from our set of all three scripts\n",
        "characterRows = Trio[Trio['character'] == 'VADER'].copy()\n",
        "\n",
        "# Initialize an empty list to store sentiment scores\n",
        "sentiment_scores = []\n",
        "\n",
        "# Initialize the analysizer\n",
        "vader = SentimentIntensityAnalyzer()\n",
        "\n",
        "# Iterate over each line of dialogue to collect the compound score\n",
        "for text in characterRows['dialogue']:\n",
        "    score = vader.polarity_scores(text)['compound']  # Get compound score for each text\n",
        "    sentiment_scores.append(score)\n",
        "\n",
        "# Add sentiment scores to the lines as a new column\n",
        "characterRows.loc[:, 'sentiment_score'] = sentiment_scores\n",
        "\n",
        "# print out twenty of your character's lines\n",
        "print(characterRows.head(20))"
      ],
      "metadata": {
        "id": "fc55LyPrwO0k"
      },
      "execution_count": null,
      "outputs": []
    },
    {
      "cell_type": "markdown",
      "source": [
        "### Plotting\n",
        "\n",
        "Plot your character's lines over the films"
      ],
      "metadata": {
        "id": "0RgDBfnyxDFc"
      }
    },
    {
      "cell_type": "code",
      "source": [
        "# Draw a plot for Luke's sentiment score over time\n",
        "\n",
        "plt.figure(figsize=(15,6))\n",
        "plt.plot(characterRows.index, characterRows['sentiment_score'], marker='o', linestyle='-', color=\"orange\")\n",
        "plt.title('Sentiment Score for VADER Over Time')\n",
        "plt.xlabel('Line Number')\n",
        "plt.ylabel('Sentiment Score')\n",
        "plt.grid(True)\n",
        "plt.show()"
      ],
      "metadata": {
        "id": "WDHCFdChxCQ-"
      },
      "execution_count": null,
      "outputs": []
    },
    {
      "cell_type": "markdown",
      "source": [
        "### Comparisons\n",
        "How is your character's journey different from Luke's? Let's see!"
      ],
      "metadata": {
        "id": "8yJoDddpxxbe"
      }
    },
    {
      "cell_type": "code",
      "source": [
        "plt.figure(figsize=(15,6))\n",
        "plt.plot(lukeRows.index, lukeRows['sentiment_score'], marker='o', linestyle='-', label = \"Luke\", color=\"red\")\n",
        "plt.plot(characterRows.index, characterRows['sentiment_score'], marker='o', linestyle=\"dashed\", color=\"blue\", label = \"Your Character\")\n",
        "plt.title('Sentiment Score for Luke and Vader Over Time')\n",
        "plt.xlabel('Line Number')\n",
        "plt.ylabel('Sentiment Score')\n",
        "plt.grid(True)\n",
        "plt.show()"
      ],
      "metadata": {
        "id": "z_cZtHHWySfL"
      },
      "execution_count": null,
      "outputs": []
    },
    {
      "cell_type": "markdown",
      "source": [
        "What kind of comparisons can you draw between you two characters? How do their sentimental journeys differ?\n",
        "\n",
        "Feel free to try more characters if you have extra time!"
      ],
      "metadata": {
        "id": "iI1Z31sXWFxX"
      }
    }
  ]
}